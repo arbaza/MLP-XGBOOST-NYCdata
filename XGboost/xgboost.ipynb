{
 "cells": [
  {
   "cell_type": "code",
   "execution_count": 1,
   "metadata": {},
   "outputs": [],
   "source": [
    "import pandas as pd\n",
    "import xgboost as xgb\n",
    "from sklearn.preprocessing import LabelEncoder\n",
    "from sklearn.metrics import mean_squared_error\n",
    "import numpy as np\n",
    "from sklearn.model_selection import train_test_split\n",
    "import matplotlib.pyplot as plt"
   ]
  },
  {
   "cell_type": "code",
   "execution_count": 6,
   "metadata": {},
   "outputs": [],
   "source": [
    "#dataset read and dropping unwanted parameters as these parameters have been cleaned and saved in new variables\n",
    "dataset = pd.read_csv('green_clean_2018.csv')\n",
    "X = dataset.drop(columns=['PUT','DOT','lpep_pickup_datetime', 'lpep_dropoff_datetime', 'PUD', 'DOD', 'PULocationID'],axis=1)\n",
    "y = dataset['PULocationID']\n",
    "data_dmatrix = xgb.DMatrix(data=X,label=y)"
   ]
  },
  {
   "cell_type": "code",
   "execution_count": 7,
   "metadata": {},
   "outputs": [],
   "source": [
    "#using train_test_split from sklearn\n",
    "X_train, X_test, y_train, y_test = train_test_split(X, y, test_size=0.2, random_state=123)"
   ]
  },
  {
   "cell_type": "code",
   "execution_count": 8,
   "metadata": {},
   "outputs": [
    {
     "name": "stdout",
     "output_type": "stream",
     "text": [
      "<class 'pandas.core.frame.DataFrame'>\n",
      "Int64Index: 1285229 entries, 714014 to 773630\n",
      "Data columns (total 18 columns):\n",
      "VendorID                 1285229 non-null float64\n",
      "dispatch                 1285229 non-null int64\n",
      "RatecodeID               1285229 non-null float64\n",
      "DOLocationID             1285229 non-null float64\n",
      "passenger_count          1285229 non-null float64\n",
      "trip_distance            1285229 non-null float64\n",
      "fare_amount              1285229 non-null float64\n",
      "extra                    1285229 non-null float64\n",
      "mta_tax                  1285229 non-null float64\n",
      "tip_amount               1285229 non-null float64\n",
      "tolls_amount             1285229 non-null float64\n",
      "improvement_surcharge    1285229 non-null float64\n",
      "total_amount             1285229 non-null float64\n",
      "payment_type             1285229 non-null float64\n",
      "trip_type                1285229 non-null float64\n",
      "day                      1285229 non-null int64\n",
      "month                    1285229 non-null int64\n",
      "PickUp_hr                1285229 non-null int64\n",
      "dtypes: float64(14), int64(4)\n",
      "memory usage: 186.3 MB\n"
     ]
    }
   ],
   "source": [
    "X_train.info()"
   ]
  },
  {
   "cell_type": "code",
   "execution_count": 9,
   "metadata": {},
   "outputs": [],
   "source": [
    "#using xgbregressor from xgboost\n",
    "xg_reg = xgb.XGBRegressor(objective ='reg:linear', colsample_bytree = 1, learning_rate = 0.01,\n",
    "                max_depth = 4, alpha = 10, n_estimators = 1)"
   ]
  },
  {
   "cell_type": "code",
   "execution_count": 10,
   "metadata": {},
   "outputs": [
    {
     "data": {
      "text/plain": [
       "XGBRegressor(alpha=10, base_score=0.5, booster='gbtree', colsample_bylevel=1,\n",
       "       colsample_bytree=1, gamma=0, importance_type='gain',\n",
       "       learning_rate=0.01, max_delta_step=0, max_depth=4,\n",
       "       min_child_weight=1, missing=None, n_estimators=1, n_jobs=1,\n",
       "       nthread=None, objective='reg:linear', random_state=0, reg_alpha=0,\n",
       "       reg_lambda=1, scale_pos_weight=1, seed=None, silent=True,\n",
       "       subsample=1)"
      ]
     },
     "execution_count": 10,
     "metadata": {},
     "output_type": "execute_result"
    }
   ],
   "source": [
    "xg_reg.fit(X_train,y_train)"
   ]
  },
  {
   "cell_type": "code",
   "execution_count": 11,
   "metadata": {},
   "outputs": [],
   "source": [
    "preds = xg_reg.predict(X_test)"
   ]
  },
  {
   "cell_type": "code",
   "execution_count": 12,
   "metadata": {},
   "outputs": [
    {
     "name": "stdout",
     "output_type": "stream",
     "text": [
      "RMSE: 131.508072\n"
     ]
    }
   ],
   "source": [
    "#Calculating the rmse\n",
    "rmse = np.sqrt(mean_squared_error(y_test, preds))\n",
    "print(\"RMSE: %f\" % (rmse))"
   ]
  },
  {
   "cell_type": "code",
   "execution_count": 13,
   "metadata": {},
   "outputs": [],
   "source": [
    "#setting the parameters\n",
    "params = {\"objective\":\"reg:linear\",'colsample_bytree': 0.3,'learning_rate': 0.01,\n",
    "                'max_depth': 5, 'alpha': 10}\n",
    "\n",
    "cv_results = xgb.cv(dtrain=data_dmatrix, params=params, nfold=10,\n",
    "                    num_boost_round=50,early_stopping_rounds=10,metrics=\"rmse\", as_pandas=True, seed=123)"
   ]
  },
  {
   "cell_type": "code",
   "execution_count": 14,
   "metadata": {},
   "outputs": [
    {
     "name": "stdout",
     "output_type": "stream",
     "text": [
      "49    98.736566\n",
      "Name: test-rmse-mean, dtype: float64\n"
     ]
    }
   ],
   "source": [
    "#printing the last rmse result\n",
    "print((cv_results[\"test-rmse-mean\"]).tail(1))"
   ]
  },
  {
   "cell_type": "code",
   "execution_count": 15,
   "metadata": {},
   "outputs": [
    {
     "name": "stdout",
     "output_type": "stream",
     "text": [
      "    train-rmse-mean  train-rmse-std  test-rmse-mean  test-rmse-std\n",
      "0        131.588211        0.020926      131.532018       0.184553\n",
      "1        130.595876        0.036729      130.625081       0.188275\n",
      "2        129.680261        0.027005      129.726323       0.197608\n",
      "3        128.879809        0.031792      128.832860       0.202862\n",
      "4        127.993071        0.043594      127.955857       0.188950\n",
      "5        127.093433        0.057810      127.088588       0.191533\n",
      "6        126.169658        0.065985      126.228045       0.194774\n",
      "7        125.385625        0.076854      125.388147       0.186812\n",
      "8        124.557413        0.073370      124.562161       0.184342\n",
      "9        123.656583        0.061700      123.744897       0.184639\n",
      "10       122.890488        0.071503      122.938697       0.188182\n",
      "11       122.104007        0.099294      122.138959       0.197320\n",
      "12       121.297353        0.098518      121.358345       0.199546\n",
      "13       120.472067        0.091076      120.579578       0.196260\n",
      "14       119.719616        0.085187      119.818524       0.205175\n",
      "15       118.979105        0.081397      119.051331       0.200346\n",
      "16       118.266849        0.094055      118.303328       0.207881\n",
      "17       117.559467        0.104627      117.573183       0.202571\n",
      "18       116.815966        0.103149      116.838824       0.212844\n",
      "19       116.084560        0.097522      116.127645       0.209551\n",
      "20       115.342722        0.095789      115.417360       0.213099\n",
      "21       114.620495        0.097200      114.727546       0.218792\n",
      "22       113.934124        0.089282      114.045184       0.219757\n",
      "23       113.268658        0.101238      113.371559       0.223029\n",
      "24       112.585745        0.117868      112.699830       0.215479\n",
      "25       111.902533        0.103520      112.040208       0.212049\n",
      "26       111.239669        0.103332      111.381433       0.226292\n",
      "27       110.595888        0.099979      110.739074       0.231629\n",
      "28       109.972140        0.111851      110.113848       0.231737\n",
      "29       109.357717        0.123331      109.486092       0.237851\n",
      "30       108.770749        0.127644      108.874712       0.235009\n",
      "31       108.188631        0.126491      108.265807       0.226511\n",
      "32       107.598931        0.126781      107.670747       0.227158\n",
      "33       107.033321        0.135441      107.089175       0.229030\n",
      "34       106.472096        0.133759      106.503732       0.222540\n",
      "35       105.920486        0.135800      105.931635       0.230602\n",
      "36       105.371817        0.139674      105.374773       0.231219\n",
      "37       104.818458        0.139445      104.818350       0.227084\n",
      "38       104.259097        0.150057      104.273322       0.229229\n",
      "39       103.713235        0.143490      103.742857       0.228530\n",
      "40       103.165422        0.136094      103.197881       0.221267\n",
      "41       102.658855        0.133980      102.678481       0.228874\n",
      "42       102.129672        0.125083      102.148140       0.214145\n",
      "43       101.608185        0.126533      101.635009       0.220670\n",
      "44       101.094704        0.132875      101.136800       0.226832\n",
      "45       100.577363        0.128334      100.638828       0.222740\n",
      "46       100.078714        0.123666      100.155949       0.223877\n",
      "47        99.586894        0.137733       99.673649       0.230811\n",
      "48        99.117758        0.138639       99.205145       0.230447\n",
      "49        98.654868        0.141464       98.736566       0.225030\n"
     ]
    }
   ],
   "source": [
    "print(cv_results)"
   ]
  },
  {
   "cell_type": "code",
   "execution_count": 16,
   "metadata": {},
   "outputs": [],
   "source": [
    "xg_reg = xgb.train(params=params, dtrain=data_dmatrix, num_boost_round=10)"
   ]
  },
  {
   "cell_type": "code",
   "execution_count": 17,
   "metadata": {},
   "outputs": [
    {
     "data": {
      "image/png": "[encoded data removed]",
      "text/plain": [
       "<Figure size 432x288 with 1 Axes>"
      ]
     },
     "metadata": {
      "needs_background": "light"
     },
     "output_type": "display_data"
    }
   ],
   "source": [
    "#Plotting the feature importance\n",
    "xgb.plot_importance(xg_reg)\n",
    "plt.rcParams['figure.figsize'] = [5, 5]\n",
    "plt.show()"
   ]
  },
  {
   "cell_type": "code",
   "execution_count": 18,
   "metadata": {},
   "outputs": [
    {
     "name": "stdout",
     "output_type": "stream",
     "text": [
      "<class 'pandas.core.frame.DataFrame'>\n",
      "RangeIndex: 1606537 entries, 0 to 1606536\n",
      "Data columns (total 18 columns):\n",
      "VendorID                 1606537 non-null float64\n",
      "dispatch                 1606537 non-null int64\n",
      "RatecodeID               1606537 non-null float64\n",
      "DOLocationID             1606537 non-null float64\n",
      "passenger_count          1606537 non-null float64\n",
      "trip_distance            1606537 non-null float64\n",
      "fare_amount              1606537 non-null float64\n",
      "extra                    1606537 non-null float64\n",
      "mta_tax                  1606537 non-null float64\n",
      "tip_amount               1606537 non-null float64\n",
      "tolls_amount             1606537 non-null float64\n",
      "improvement_surcharge    1606537 non-null float64\n",
      "total_amount             1606537 non-null float64\n",
      "payment_type             1606537 non-null float64\n",
      "trip_type                1606537 non-null float64\n",
      "day                      1606537 non-null int64\n",
      "month                    1606537 non-null int64\n",
      "PickUp_hr                1606537 non-null int64\n",
      "dtypes: float64(14), int64(4)\n",
      "memory usage: 220.6 MB\n"
     ]
    }
   ],
   "source": [
    "X.info()"
   ]
  },
  {
   "cell_type": "code",
   "execution_count": 21,
   "metadata": {},
   "outputs": [
    {
     "name": "stderr",
     "output_type": "stream",
     "text": [
      "C:\\Users\\Arbaz\\Anaconda3\\envs\\ensc-s2019\\lib\\site-packages\\xgboost\\core.py:587: FutureWarning: Series.base is deprecated and will be removed in a future version\n",
      "  if getattr(data, 'base', None) is not None and \\\n",
      "C:\\Users\\Arbaz\\Anaconda3\\envs\\ensc-s2019\\lib\\site-packages\\xgboost\\core.py:588: FutureWarning: Series.base is deprecated and will be removed in a future version\n",
      "  data.base is not None and isinstance(data, np.ndarray) \\\n"
     ]
    }
   ],
   "source": [
    "#Using different features and using similar approach as above with different parameters and finding their respective parameters\n",
    "X = dataset.drop(columns=['dispatch', 'day','trip_type', 'VendorID','improvement_surcharge','payment_type','mta_tax',\n",
    "                         'RatecodeID','tolls_amount','month', 'lpep_pickup_datetime', 'lpep_dropoff_datetime', 'PUD', 'DOD','PUT','DOT', 'PULocationID'],axis=1)\n",
    "y = dataset['PULocationID']\n",
    "data_dmatrix = xgb.DMatrix(data=X,label=y)"
   ]
  },
  {
   "cell_type": "code",
   "execution_count": 22,
   "metadata": {},
   "outputs": [],
   "source": [
    "X_train, X_test, y_train, y_test = train_test_split(X, y, test_size=0.2, random_state=123)"
   ]
  },
  {
   "cell_type": "code",
   "execution_count": 23,
   "metadata": {},
   "outputs": [],
   "source": [
    "#Same parameters are used\n",
    "cv_results = xgb.cv(dtrain=data_dmatrix, params=params, nfold=10,\n",
    "                    num_boost_round=50,early_stopping_rounds=10,metrics=\"rmse\", as_pandas=True, seed=123)"
   ]
  },
  {
   "cell_type": "code",
   "execution_count": 24,
   "metadata": {},
   "outputs": [
    {
     "name": "stdout",
     "output_type": "stream",
     "text": [
      "49    98.841142\n",
      "Name: test-rmse-mean, dtype: float64\n"
     ]
    }
   ],
   "source": [
    "#RMSE is calculated\n",
    "printscikit ref((cv_results[\"test-rmse-mean\"]).tail(1))"
   ]
  },
  {
   "cell_type": "code",
   "execution_count": 26,
   "metadata": {},
   "outputs": [],
   "source": [
    "#different parameters are dropped again\n",
    "X = dataset.drop(columns=['VendorID','RatecodeID','mta_tax','tolls_amount','improvement_surcharge','total_amount','payment_type','trip_type','dispatch','PickUp_hr', 'lpep_pickup_datetime', 'lpep_dropoff_datetime', 'PUD', 'DOD','PUT','DOT', 'PULocationID'],axis=1)"
   ]
  },
  {
   "cell_type": "code",
   "execution_count": 27,
   "metadata": {},
   "outputs": [],
   "source": [
    "data_dmatrix = xgb.DMatrix(data=X,label=y)"
   ]
  },
  {
   "cell_type": "code",
   "execution_count": 28,
   "metadata": {},
   "outputs": [],
   "source": [
    "X_train, X_test, y_train, y_test = train_test_split(X, y, test_size=0.2, random_state=123)"
   ]
  },
  {
   "cell_type": "code",
   "execution_count": 29,
   "metadata": {},
   "outputs": [],
   "source": [
    "#same parameters\n",
    "params = {\"objective\":\"reg:linear\",'colsample_bytree': 0.3,'learning_rate': 0.01,\n",
    "                'max_depth': 5, 'alpha': 10}"
   ]
  },
  {
   "cell_type": "code",
   "execution_count": 30,
   "metadata": {},
   "outputs": [],
   "source": [
    "cv_results = xgb.cv(dtrain=data_dmatrix, params=params, nfold=10,\n",
    "                    num_boost_round=50,early_stopping_rounds=10,metrics=\"rmse\", as_pandas=True, seed=123)"
   ]
  },
  {
   "cell_type": "code",
   "execution_count": 31,
   "metadata": {},
   "outputs": [
    {
     "name": "stdout",
     "output_type": "stream",
     "text": [
      "49    98.933505\n",
      "Name: test-rmse-mean, dtype: float64\n"
     ]
    }
   ],
   "source": [
    "#RMSE value\n",
    "print((cv_results[\"test-rmse-mean\"]).tail(1))"
   ]
  },
  {
   "cell_type": "code",
   "execution_count": 32,
   "metadata": {},
   "outputs": [
    {
     "name": "stdout",
     "output_type": "stream",
     "text": [
      "    train-rmse-mean  train-rmse-std  test-rmse-mean  test-rmse-std\n",
      "0        131.588324        0.020967      131.537344       0.184585\n",
      "1        130.614986        0.026856      130.631504       0.180237\n",
      "2        129.683192        0.026219      129.738391       0.178473\n",
      "3        128.913425        0.067468      128.843359       0.174634\n",
      "4        128.029115        0.054815      127.987617       0.174268\n",
      "5        127.137859        0.058125      127.135191       0.175088\n",
      "6        126.233077        0.047736      126.291122       0.177124\n",
      "7        125.453971        0.061291      125.450642       0.175068\n",
      "8        124.609457        0.045148      124.627161       0.175569\n",
      "9        123.717916        0.043539      123.817996       0.182287\n",
      "10       122.965267        0.060784      123.005999       0.193731\n",
      "11       122.188388        0.064027      122.206957       0.193061\n",
      "12       121.366639        0.058682      121.434577       0.192482\n",
      "13       120.542577        0.049981      120.659271       0.193259\n",
      "14       119.792649        0.045329      119.905077       0.196209\n",
      "15       119.060811        0.058883      119.143874       0.194048\n",
      "16       118.357301        0.076217      118.396280       0.196897\n",
      "17       117.661083        0.084014      117.667980       0.202706\n",
      "18       116.929210        0.079723      116.943144       0.205025\n",
      "19       116.185780        0.060588      116.232183       0.205887\n",
      "20       115.454711        0.072604      115.540955       0.209878\n",
      "21       114.738912        0.080485      114.858058       0.210552\n",
      "22       114.060489        0.081025      114.176040       0.217976\n",
      "23       113.395256        0.084640      113.505649       0.218040\n",
      "24       112.726002        0.085990      112.837769       0.224901\n",
      "25       112.044203        0.072753      112.186796       0.223289\n",
      "26       111.376327        0.068608      111.535053       0.229630\n",
      "27       110.724509        0.079725      110.882393       0.225249\n",
      "28       110.096706        0.088955      110.257402       0.229382\n",
      "29       109.505998        0.105639      109.639962       0.230328\n",
      "30       108.943893        0.110046      109.036420       0.231976\n",
      "31       108.365374        0.121826      108.437145       0.227292\n",
      "32       107.786296        0.122874      107.851123       0.227953\n",
      "33       107.213168        0.133539      107.256721       0.231817\n",
      "34       106.661396        0.121977      106.680530       0.231332\n",
      "35       106.110144        0.111387      106.105902       0.231296\n",
      "36       105.564217        0.107989      105.551331       0.228532\n",
      "37       104.998181        0.105191      104.996794       0.234984\n",
      "38       104.427529        0.100696      104.449886       0.220509\n",
      "39       103.870990        0.089227      103.901109       0.217629\n",
      "40       103.349989        0.084587      103.368675       0.224401\n",
      "41       102.835934        0.077722      102.839709       0.212959\n",
      "42       102.329862        0.073368      102.337360       0.214714\n",
      "43       101.791484        0.065154      101.820448       0.209611\n",
      "44       101.265386        0.073421      101.320495       0.221204\n",
      "45       100.744991        0.075799      100.833710       0.220006\n",
      "46       100.248566        0.088509      100.350702       0.218854\n",
      "47        99.774300        0.091177       99.877701       0.225068\n",
      "48        99.307309        0.099701       99.401285       0.227883\n",
      "49        98.850016        0.089290       98.933505       0.220996\n"
     ]
    }
   ],
   "source": [
    "print(cv_results)"
   ]
  },
  {
   "cell_type": "code",
   "execution_count": null,
   "metadata": {},
   "outputs": [],
   "source": []
  }
 ],
 "metadata": {
  "kernelspec": {
   "display_name": "Python 3",
   "language": "python",
   "name": "python3"
  },
  "language_info": {
   "codemirror_mode": {
    "name": "ipython",
    "version": 3
   },
   "file_extension": ".py",
   "mimetype": "text/x-python",
   "name": "python",
   "nbconvert_exporter": "python",
   "pygments_lexer": "ipython3",
   "version": "3.6.7"
  }
 },
 "nbformat": 4,
 "nbformat_minor": 2
}
