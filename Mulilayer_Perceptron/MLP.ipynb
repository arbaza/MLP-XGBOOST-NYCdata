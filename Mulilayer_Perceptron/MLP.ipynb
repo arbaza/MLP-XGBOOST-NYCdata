{
 "cells": [
  {
   "cell_type": "code",
   "execution_count": 32,
   "metadata": {},
   "outputs": [],
   "source": [
    "from numpy import array\n",
    "from numpy import argmax\n",
    "from keras.optimizers import RMSprop, Adam\n",
    "from keras.utils import to_categorical\n",
    "from sklearn.model_selection import train_test_split\n",
    "import matplotlib.pyplot as plt\n",
    "import pandas as pd\n",
    "import numpy as np\n",
    "from keras.datasets import mnist\n",
    "from keras.models import Sequential\n",
    "from keras.layers.core import Dense, Activation, Dropout\n",
    "from keras.optimizers import SGD\n",
    "from keras.utils import np_utils\n",
    "np.random.seed(1671)"
   ]
  },
  {
   "cell_type": "code",
   "execution_count": 33,
   "metadata": {},
   "outputs": [],
   "source": [
    "#defining the function that will be used to display the graph for loss and number of epochs\n",
    "def graph_plot(history):\n",
    "    plt.plot(history.history['loss'], label='train')\n",
    "    plt.plot(history.history['val_loss'], label='test')\n",
    "    plt.legend()\n",
    "    plt.show()"
   ]
  },
  {
   "cell_type": "code",
   "execution_count": 34,
   "metadata": {},
   "outputs": [
    {
     "name": "stdout",
     "output_type": "stream",
     "text": [
      "<class 'pandas.core.frame.DataFrame'>\n",
      "RangeIndex: 1606537 entries, 0 to 1606536\n",
      "Data columns (total 25 columns):\n",
      "VendorID                 1606537 non-null float64\n",
      "lpep_pickup_datetime     1606537 non-null object\n",
      "lpep_dropoff_datetime    1606537 non-null object\n",
      "dispatch                 1606537 non-null int64\n",
      "RatecodeID               1606537 non-null float64\n",
      "PULocationID             1606537 non-null float64\n",
      "DOLocationID             1606537 non-null float64\n",
      "passenger_count          1606537 non-null float64\n",
      "trip_distance            1606537 non-null float64\n",
      "fare_amount              1606537 non-null float64\n",
      "extra                    1606537 non-null float64\n",
      "mta_tax                  1606537 non-null float64\n",
      "tip_amount               1606537 non-null float64\n",
      "tolls_amount             1606537 non-null float64\n",
      "improvement_surcharge    1606537 non-null float64\n",
      "total_amount             1606537 non-null float64\n",
      "payment_type             1606537 non-null float64\n",
      "trip_type                1606537 non-null float64\n",
      "PUD                      1606537 non-null object\n",
      "PUT                      1606537 non-null object\n",
      "DOD                      1606537 non-null object\n",
      "DOT                      1606537 non-null object\n",
      "day                      1606537 non-null int64\n",
      "month                    1606537 non-null int64\n",
      "PickUp_hr                1606537 non-null int64\n",
      "dtypes: float64(15), int64(4), object(6)\n",
      "memory usage: 306.4+ MB\n"
     ]
    }
   ],
   "source": [
    "#reading the dataset\n",
    "dataset = pd.read_csv('green_clean_2018.csv')\n",
    "dataset.info()"
   ]
  },
  {
   "cell_type": "code",
   "execution_count": 35,
   "metadata": {},
   "outputs": [
    {
     "data": {
      "text/html": [
       "<div>\n",
       "<style scoped>\n",
       "    .dataframe tbody tr th:only-of-type {\n",
       "        vertical-align: middle;\n",
       "    }\n",
       "\n",
       "    .dataframe tbody tr th {\n",
       "        vertical-align: top;\n",
       "    }\n",
       "\n",
       "    .dataframe thead th {\n",
       "        text-align: right;\n",
       "    }\n",
       "</style>\n",
       "<table border=\"1\" class=\"dataframe\">\n",
       "  <thead>\n",
       "    <tr style=\"text-align: right;\">\n",
       "      <th></th>\n",
       "      <th>PULocationID</th>\n",
       "      <th>DOLocationID</th>\n",
       "      <th>passenger_count</th>\n",
       "      <th>trip_distance</th>\n",
       "      <th>fare_amount</th>\n",
       "      <th>extra</th>\n",
       "      <th>tip_amount</th>\n",
       "      <th>total_amount</th>\n",
       "      <th>day</th>\n",
       "      <th>month</th>\n",
       "      <th>PickUp_hr</th>\n",
       "    </tr>\n",
       "  </thead>\n",
       "  <tbody>\n",
       "    <tr>\n",
       "      <th>0</th>\n",
       "      <td>97.0</td>\n",
       "      <td>65.0</td>\n",
       "      <td>1.0</td>\n",
       "      <td>0.00</td>\n",
       "      <td>20.0</td>\n",
       "      <td>0.0</td>\n",
       "      <td>3.00</td>\n",
       "      <td>23.00</td>\n",
       "      <td>1</td>\n",
       "      <td>2</td>\n",
       "      <td>0</td>\n",
       "    </tr>\n",
       "    <tr>\n",
       "      <th>1</th>\n",
       "      <td>256.0</td>\n",
       "      <td>80.0</td>\n",
       "      <td>5.0</td>\n",
       "      <td>1.60</td>\n",
       "      <td>7.5</td>\n",
       "      <td>0.5</td>\n",
       "      <td>0.88</td>\n",
       "      <td>9.68</td>\n",
       "      <td>1</td>\n",
       "      <td>2</td>\n",
       "      <td>0</td>\n",
       "    </tr>\n",
       "    <tr>\n",
       "      <th>2</th>\n",
       "      <td>25.0</td>\n",
       "      <td>95.0</td>\n",
       "      <td>1.0</td>\n",
       "      <td>9.60</td>\n",
       "      <td>28.5</td>\n",
       "      <td>0.5</td>\n",
       "      <td>5.96</td>\n",
       "      <td>35.76</td>\n",
       "      <td>1</td>\n",
       "      <td>2</td>\n",
       "      <td>0</td>\n",
       "    </tr>\n",
       "    <tr>\n",
       "      <th>3</th>\n",
       "      <td>61.0</td>\n",
       "      <td>61.0</td>\n",
       "      <td>1.0</td>\n",
       "      <td>0.73</td>\n",
       "      <td>4.5</td>\n",
       "      <td>0.5</td>\n",
       "      <td>0.00</td>\n",
       "      <td>5.80</td>\n",
       "      <td>1</td>\n",
       "      <td>2</td>\n",
       "      <td>0</td>\n",
       "    </tr>\n",
       "    <tr>\n",
       "      <th>4</th>\n",
       "      <td>65.0</td>\n",
       "      <td>17.0</td>\n",
       "      <td>2.0</td>\n",
       "      <td>1.87</td>\n",
       "      <td>8.0</td>\n",
       "      <td>0.5</td>\n",
       "      <td>0.00</td>\n",
       "      <td>9.30</td>\n",
       "      <td>1</td>\n",
       "      <td>2</td>\n",
       "      <td>0</td>\n",
       "    </tr>\n",
       "  </tbody>\n",
       "</table>\n",
       "</div>"
      ],
      "text/plain": [
       "   PULocationID  DOLocationID  passenger_count  trip_distance  fare_amount  \\\n",
       "0          97.0          65.0              1.0           0.00         20.0   \n",
       "1         256.0          80.0              5.0           1.60          7.5   \n",
       "2          25.0          95.0              1.0           9.60         28.5   \n",
       "3          61.0          61.0              1.0           0.73          4.5   \n",
       "4          65.0          17.0              2.0           1.87          8.0   \n",
       "\n",
       "   extra  tip_amount  total_amount  day  month  PickUp_hr  \n",
       "0    0.0        3.00         23.00    1      2          0  \n",
       "1    0.5        0.88          9.68    1      2          0  \n",
       "2    0.5        5.96         35.76    1      2          0  \n",
       "3    0.5        0.00          5.80    1      2          0  \n",
       "4    0.5        0.00          9.30    1      2          0  "
      ]
     },
     "execution_count": 35,
     "metadata": {},
     "output_type": "execute_result"
    }
   ],
   "source": [
    "#dropping unwanted parameters as these parameters have been cleaned and saved in new variables\n",
    "X = dataset.drop(columns=['dispatch','trip_type', 'VendorID','improvement_surcharge','payment_type','mta_tax', \n",
    "                         'RatecodeID','tolls_amount','PUT','DOT','lpep_pickup_datetime', 'lpep_dropoff_datetime', 'PUD', 'DOD'],axis=1)\n",
    "y = dataset['PULocationID']\n",
    "\n",
    "X.head()"
   ]
  },
  {
   "cell_type": "code",
   "execution_count": 36,
   "metadata": {},
   "outputs": [],
   "source": [
    "#setting up the parameters\n",
    "NB_EPOCH = 20\n",
    "BATCH_SIZE = 128\n",
    "VALIDATION_SPLIT=0.2\n",
    "VERBOSE = 1\n",
    "OPTIMIZER = SGD() \n",
    "N_HIDDEN = 128\n",
    "DROPOUT = 0.3"
   ]
  },
  {
   "cell_type": "code",
   "execution_count": 37,
   "metadata": {},
   "outputs": [],
   "source": [
    "#Defining the one hot encoding function \n",
    "def OneHotEncoding(y):\n",
    "    data = array(y)\n",
    "    encoded = to_categorical(data)\n",
    "    print(np.shape(encoded))\n",
    "    return encoded"
   ]
  },
  {
   "cell_type": "code",
   "execution_count": 38,
   "metadata": {},
   "outputs": [],
   "source": [
    "#definning the architecture of the mlp model\n",
    "def model(N_HIDDEN,RESHAPED,NB_CLASSES,OPTIMIZER,DROPOUT):\n",
    "    model = Sequential()\n",
    "    model.add(Dense(N_HIDDEN, input_shape=(RESHAPED,)))\n",
    "    model.add(Activation('relu'))\n",
    "    model.add(Dense(N_HIDDEN))\n",
    "    model.add(Activation('relu'))\n",
    "    #model.add(Dropout(DROPOUT))\n",
    "    model.add(Dense(NB_CLASSES))\n",
    "    model.add(Activation('softmax'))\n",
    "    model.summary()\n",
    "    model.compile(loss='categorical_crossentropy',\n",
    "    optimizer=OPTIMIZER,\n",
    "    metrics=['accuracy'])\n",
    "    return model"
   ]
  },
  {
   "cell_type": "code",
   "execution_count": 39,
   "metadata": {},
   "outputs": [],
   "source": [
    "X_train, X_test, y_train, y_test = train_test_split(X, y, test_size=0.2, random_state=123)\n",
    "RESHAPED = len(X_train.columns)"
   ]
  },
  {
   "cell_type": "code",
   "execution_count": 40,
   "metadata": {},
   "outputs": [
    {
     "name": "stdout",
     "output_type": "stream",
     "text": [
      "(1285229, 266)\n"
     ]
    }
   ],
   "source": [
    "#getting y_train from the function one hot encoding\n",
    "y_train = OneHotEncoding(y_train)\n",
    "NB_CLASSES = y_train.shape[1]"
   ]
  },
  {
   "cell_type": "code",
   "execution_count": 41,
   "metadata": {},
   "outputs": [
    {
     "name": "stdout",
     "output_type": "stream",
     "text": [
      "_________________________________________________________________\n",
      "Layer (type)                 Output Shape              Param #   \n",
      "=================================================================\n",
      "dense_7 (Dense)              (None, 128)               1536      \n",
      "_________________________________________________________________\n",
      "activation_7 (Activation)    (None, 128)               0         \n",
      "_________________________________________________________________\n",
      "dense_8 (Dense)              (None, 128)               16512     \n",
      "_________________________________________________________________\n",
      "activation_8 (Activation)    (None, 128)               0         \n",
      "_________________________________________________________________\n",
      "dense_9 (Dense)              (None, 266)               34314     \n",
      "_________________________________________________________________\n",
      "activation_9 (Activation)    (None, 266)               0         \n",
      "=================================================================\n",
      "Total params: 52,362\n",
      "Trainable params: 52,362\n",
      "Non-trainable params: 0\n",
      "_________________________________________________________________\n"
     ]
    }
   ],
   "source": [
    "#showing the model\n",
    "model= model(N_HIDDEN,RESHAPED,NB_CLASSES,OPTIMIZER,DROPOUT)"
   ]
  },
  {
   "cell_type": "code",
   "execution_count": 42,
   "metadata": {},
   "outputs": [
    {
     "name": "stdout",
     "output_type": "stream",
     "text": [
      "Train on 1028183 samples, validate on 257046 samples\n",
      "Epoch 1/20\n",
      "1028183/1028183 [==============================] - 36s 35us/step - loss: 2.7744 - acc: 0.2708 - val_loss: 2.4908 - val_acc: 0.3210\n",
      "Epoch 2/20\n",
      "1028183/1028183 [==============================] - 36s 35us/step - loss: 2.4224 - acc: 0.3306 - val_loss: 2.3040 - val_acc: 0.3484\n",
      "Epoch 3/20\n",
      "1028183/1028183 [==============================] - 33s 32us/step - loss: 2.2814 - acc: 0.3602 - val_loss: 2.2124 - val_acc: 0.3805\n",
      "Epoch 4/20\n",
      "1028183/1028183 [==============================] - 37s 36us/step - loss: 2.1870 - acc: 0.3817 - val_loss: 2.1171 - val_acc: 0.3958\n",
      "Epoch 5/20\n",
      "1028183/1028183 [==============================] - 33s 32us/step - loss: 2.1131 - acc: 0.3987 - val_loss: 2.2325 - val_acc: 0.3683\n",
      "Epoch 6/20\n",
      "1028183/1028183 [==============================] - 32s 31us/step - loss: 2.0490 - acc: 0.4145 - val_loss: 2.0825 - val_acc: 0.3970\n",
      "Epoch 7/20\n",
      "1028183/1028183 [==============================] - 33s 32us/step - loss: 1.9937 - acc: 0.4276 - val_loss: 1.9413 - val_acc: 0.4370\n",
      "Epoch 8/20\n",
      "1028183/1028183 [==============================] - 31s 30us/step - loss: 1.9522 - acc: 0.4373 - val_loss: 2.0175 - val_acc: 0.4232\n",
      "Epoch 9/20\n",
      "1028183/1028183 [==============================] - 32s 31us/step - loss: 1.9132 - acc: 0.4470 - val_loss: 1.9552 - val_acc: 0.4380\n",
      "Epoch 10/20\n",
      "1028183/1028183 [==============================] - 32s 31us/step - loss: 1.8806 - acc: 0.4546 - val_loss: 1.9418 - val_acc: 0.4360\n",
      "Epoch 11/20\n",
      "1028183/1028183 [==============================] - 33s 32us/step - loss: 1.8514 - acc: 0.4621 - val_loss: 1.9674 - val_acc: 0.4454\n",
      "Epoch 12/20\n",
      "1028183/1028183 [==============================] - 34s 33us/step - loss: 1.8248 - acc: 0.4687 - val_loss: 1.7928 - val_acc: 0.4786\n",
      "Epoch 13/20\n",
      "1028183/1028183 [==============================] - 34s 33us/step - loss: 1.8003 - acc: 0.4753 - val_loss: 1.7907 - val_acc: 0.4777\n",
      "Epoch 14/20\n",
      "1028183/1028183 [==============================] - 36s 35us/step - loss: 1.7762 - acc: 0.4812 - val_loss: 1.6537 - val_acc: 0.5136\n",
      "Epoch 15/20\n",
      "1028183/1028183 [==============================] - 35s 34us/step - loss: 1.7530 - acc: 0.4866 - val_loss: 1.7328 - val_acc: 0.4905\n",
      "Epoch 16/20\n",
      "1028183/1028183 [==============================] - 36s 35us/step - loss: 1.7302 - acc: 0.4927 - val_loss: 1.6935 - val_acc: 0.4983\n",
      "Epoch 17/20\n",
      "1028183/1028183 [==============================] - 34s 33us/step - loss: 1.7153 - acc: 0.4970 - val_loss: 1.6356 - val_acc: 0.5102\n",
      "Epoch 18/20\n",
      "1028183/1028183 [==============================] - 34s 33us/step - loss: 1.6952 - acc: 0.5021 - val_loss: 1.6062 - val_acc: 0.5262\n",
      "Epoch 19/20\n",
      "1028183/1028183 [==============================] - 33s 32us/step - loss: 1.6795 - acc: 0.5065 - val_loss: 1.7610 - val_acc: 0.4893\n",
      "Epoch 20/20\n",
      "1028183/1028183 [==============================] - 33s 32us/step - loss: 1.6611 - acc: 0.5110 - val_loss: 1.6310 - val_acc: 0.5140\n"
     ]
    }
   ],
   "source": [
    "#running the model\n",
    "history = model.fit(X_train, y_train,\n",
    "batch_size=BATCH_SIZE, epochs=NB_EPOCH,\n",
    "verbose=VERBOSE, validation_split=VALIDATION_SPLIT)"
   ]
  },
  {
   "cell_type": "code",
   "execution_count": 43,
   "metadata": {},
   "outputs": [
    {
     "data": {
      "image/png": "[encoded data removed]",
      "text/plain": [
       "<Figure size 432x288 with 1 Axes>"
      ]
     },
     "metadata": {
      "needs_background": "light"
     },
     "output_type": "display_data"
    }
   ],
   "source": [
    "#plotting using the graph_plot function\n",
    "graph_plot(history)"
   ]
  },
  {
   "cell_type": "code",
   "execution_count": 44,
   "metadata": {},
   "outputs": [
    {
     "name": "stdout",
     "output_type": "stream",
     "text": [
      "(321308, 266)\n"
     ]
    }
   ],
   "source": [
    "y_test = OneHotEncoding(y_test)"
   ]
  },
  {
   "cell_type": "code",
   "execution_count": 45,
   "metadata": {},
   "outputs": [
    {
     "name": "stdout",
     "output_type": "stream",
     "text": [
      "321308/321308 [==============================] - 9s 29us/step\n",
      "Test score: 1.6302133896190376\n",
      "Test accuracy: 0.5145250040444781\n"
     ]
    }
   ],
   "source": [
    "#printing the accuracy of the model\n",
    "score = model.evaluate(X_test, y_test, verbose=VERBOSE)\n",
    "print(\"Test score:\", score[0])\n",
    "print('Test accuracy:', score[1])"
   ]
  },
  {
   "cell_type": "code",
   "execution_count": null,
   "metadata": {},
   "outputs": [],
   "source": []
  },
  {
   "cell_type": "code",
   "execution_count": null,
   "metadata": {},
   "outputs": [],
   "source": []
  }
 ],
 "metadata": {
  "kernelspec": {
   "display_name": "Python 3",
   "language": "python",
   "name": "python3"
  },
  "language_info": {
   "codemirror_mode": {
    "name": "ipython",
    "version": 3
   },
   "file_extension": ".py",
   "mimetype": "text/x-python",
   "name": "python",
   "nbconvert_exporter": "python",
   "pygments_lexer": "ipython3",
   "version": "3.6.7"
  }
 },
 "nbformat": 4,
 "nbformat_minor": 2
}
